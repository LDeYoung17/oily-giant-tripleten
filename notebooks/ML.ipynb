{
 "cells": [
  {
   "attachments": {},
   "cell_type": "markdown",
   "metadata": {},
   "source": [
    "<h1>Introduction</h1>\n",
    "Oily Giant yes yes"
   ]
  },
  {
   "attachments": {},
   "cell_type": "markdown",
   "metadata": {},
   "source": [
    "Import statements necessary to complete the task"
   ]
  },
  {
   "cell_type": "code",
   "execution_count": 1,
   "metadata": {},
   "outputs": [],
   "source": [
    "import pandas as pd\n",
    "import numpy as np\n",
    "from scipy import stats as st\n",
    "import matplotlib.pyplot as plt\n",
    "from sklearn.preprocessing import StandardScaler\n",
    "from sklearn.model_selection import train_test_split\n",
    "from sklearn.model_selection import cross_val_score\n",
    "from sklearn.linear_model import LinearRegression\t\n",
    "from sklearn.metrics import mean_squared_error\n",
    "from sklearn.metrics import accuracy_score\n",
    "from sklearn.metrics import confusion_matrix\n",
    "from sklearn.metrics import f1_score\n",
    "from sklearn.utils import shuffle\n",
    "from sklearn.metrics import roc_auc_score \n",
    "from sklearn.metrics import roc_curve"
   ]
  },
  {
   "attachments": {},
   "cell_type": "markdown",
   "metadata": {},
   "source": [
    "Importing the data"
   ]
  },
  {
   "cell_type": "code",
   "execution_count": 2,
   "metadata": {},
   "outputs": [],
   "source": [
    "geo_data_0 = pd.read_csv('/Users/leahdeyoung/Desktop/GitHub/oily-giant-tripleten/geo_data_0.csv', encoding = \"utf-8\")\n",
    "geo_data_1 = pd.read_csv('/Users/leahdeyoung/Desktop/GitHub/oily-giant-tripleten/geo_data_1.csv', encoding = \"utf-8\")\n",
    "geo_data_2 = pd.read_csv('/Users/leahdeyoung/Desktop/GitHub/oily-giant-tripleten/geo_data_2.csv', encoding = \"utf-8\")\n"
   ]
  },
  {
   "attachments": {},
   "cell_type": "markdown",
   "metadata": {},
   "source": [
    "This code looks at a sample of the data and basic information about the data"
   ]
  },
  {
   "cell_type": "code",
   "execution_count": 5,
   "metadata": {},
   "outputs": [
    {
     "data": {
      "text/html": [
       "<div>\n",
       "<style scoped>\n",
       "    .dataframe tbody tr th:only-of-type {\n",
       "        vertical-align: middle;\n",
       "    }\n",
       "\n",
       "    .dataframe tbody tr th {\n",
       "        vertical-align: top;\n",
       "    }\n",
       "\n",
       "    .dataframe thead th {\n",
       "        text-align: right;\n",
       "    }\n",
       "</style>\n",
       "<table border=\"1\" class=\"dataframe\">\n",
       "  <thead>\n",
       "    <tr style=\"text-align: right;\">\n",
       "      <th></th>\n",
       "      <th>id</th>\n",
       "      <th>f0</th>\n",
       "      <th>f1</th>\n",
       "      <th>f2</th>\n",
       "      <th>product</th>\n",
       "    </tr>\n",
       "  </thead>\n",
       "  <tbody>\n",
       "    <tr>\n",
       "      <th>28689</th>\n",
       "      <td>Rgigu</td>\n",
       "      <td>0.633729</td>\n",
       "      <td>-0.518301</td>\n",
       "      <td>2.970767</td>\n",
       "      <td>129.775650</td>\n",
       "    </tr>\n",
       "    <tr>\n",
       "      <th>86291</th>\n",
       "      <td>NXkmf</td>\n",
       "      <td>0.372661</td>\n",
       "      <td>0.852741</td>\n",
       "      <td>6.221247</td>\n",
       "      <td>50.264068</td>\n",
       "    </tr>\n",
       "    <tr>\n",
       "      <th>5794</th>\n",
       "      <td>dd78e</td>\n",
       "      <td>0.412504</td>\n",
       "      <td>1.018591</td>\n",
       "      <td>8.959757</td>\n",
       "      <td>121.162430</td>\n",
       "    </tr>\n",
       "    <tr>\n",
       "      <th>91700</th>\n",
       "      <td>RwdhV</td>\n",
       "      <td>0.991761</td>\n",
       "      <td>0.307867</td>\n",
       "      <td>3.427862</td>\n",
       "      <td>107.075526</td>\n",
       "    </tr>\n",
       "    <tr>\n",
       "      <th>57937</th>\n",
       "      <td>OOVI4</td>\n",
       "      <td>0.972454</td>\n",
       "      <td>0.186771</td>\n",
       "      <td>4.105464</td>\n",
       "      <td>138.022500</td>\n",
       "    </tr>\n",
       "    <tr>\n",
       "      <th>64008</th>\n",
       "      <td>0q7Zk</td>\n",
       "      <td>0.693025</td>\n",
       "      <td>-0.425098</td>\n",
       "      <td>8.425803</td>\n",
       "      <td>146.303029</td>\n",
       "    </tr>\n",
       "    <tr>\n",
       "      <th>34610</th>\n",
       "      <td>HAEM6</td>\n",
       "      <td>-0.521710</td>\n",
       "      <td>0.850772</td>\n",
       "      <td>1.588074</td>\n",
       "      <td>122.767706</td>\n",
       "    </tr>\n",
       "    <tr>\n",
       "      <th>13562</th>\n",
       "      <td>xISXA</td>\n",
       "      <td>1.881258</td>\n",
       "      <td>0.145090</td>\n",
       "      <td>6.383444</td>\n",
       "      <td>154.086631</td>\n",
       "    </tr>\n",
       "    <tr>\n",
       "      <th>17562</th>\n",
       "      <td>dQXFk</td>\n",
       "      <td>0.674015</td>\n",
       "      <td>0.677188</td>\n",
       "      <td>2.284586</td>\n",
       "      <td>12.155892</td>\n",
       "    </tr>\n",
       "    <tr>\n",
       "      <th>12384</th>\n",
       "      <td>n8tdG</td>\n",
       "      <td>0.538543</td>\n",
       "      <td>0.839318</td>\n",
       "      <td>4.837324</td>\n",
       "      <td>64.661044</td>\n",
       "    </tr>\n",
       "  </tbody>\n",
       "</table>\n",
       "</div>"
      ],
      "text/plain": [
       "          id        f0        f1        f2     product\n",
       "28689  Rgigu  0.633729 -0.518301  2.970767  129.775650\n",
       "86291  NXkmf  0.372661  0.852741  6.221247   50.264068\n",
       "5794   dd78e  0.412504  1.018591  8.959757  121.162430\n",
       "91700  RwdhV  0.991761  0.307867  3.427862  107.075526\n",
       "57937  OOVI4  0.972454  0.186771  4.105464  138.022500\n",
       "64008  0q7Zk  0.693025 -0.425098  8.425803  146.303029\n",
       "34610  HAEM6 -0.521710  0.850772  1.588074  122.767706\n",
       "13562  xISXA  1.881258  0.145090  6.383444  154.086631\n",
       "17562  dQXFk  0.674015  0.677188  2.284586   12.155892\n",
       "12384  n8tdG  0.538543  0.839318  4.837324   64.661044"
      ]
     },
     "metadata": {},
     "output_type": "display_data"
    },
    {
     "name": "stdout",
     "output_type": "stream",
     "text": [
      "<class 'pandas.core.frame.DataFrame'>\n",
      "RangeIndex: 100000 entries, 0 to 99999\n",
      "Data columns (total 5 columns):\n",
      " #   Column   Non-Null Count   Dtype  \n",
      "---  ------   --------------   -----  \n",
      " 0   id       100000 non-null  object \n",
      " 1   f0       100000 non-null  float64\n",
      " 2   f1       100000 non-null  float64\n",
      " 3   f2       100000 non-null  float64\n",
      " 4   product  100000 non-null  float64\n",
      "dtypes: float64(4), object(1)\n",
      "memory usage: 3.8+ MB\n"
     ]
    }
   ],
   "source": [
    "display(geo_data_0.sample(10))\n",
    "geo_data_0.info()"
   ]
  },
  {
   "cell_type": "code",
   "execution_count": 3,
   "metadata": {},
   "outputs": [
    {
     "data": {
      "text/html": [
       "<div>\n",
       "<style scoped>\n",
       "    .dataframe tbody tr th:only-of-type {\n",
       "        vertical-align: middle;\n",
       "    }\n",
       "\n",
       "    .dataframe tbody tr th {\n",
       "        vertical-align: top;\n",
       "    }\n",
       "\n",
       "    .dataframe thead th {\n",
       "        text-align: right;\n",
       "    }\n",
       "</style>\n",
       "<table border=\"1\" class=\"dataframe\">\n",
       "  <thead>\n",
       "    <tr style=\"text-align: right;\">\n",
       "      <th></th>\n",
       "      <th>id</th>\n",
       "      <th>f0</th>\n",
       "      <th>f1</th>\n",
       "      <th>f2</th>\n",
       "      <th>product</th>\n",
       "    </tr>\n",
       "  </thead>\n",
       "  <tbody>\n",
       "    <tr>\n",
       "      <th>8719</th>\n",
       "      <td>RJPra</td>\n",
       "      <td>-9.056189</td>\n",
       "      <td>-6.904936</td>\n",
       "      <td>1.007228</td>\n",
       "      <td>30.132364</td>\n",
       "    </tr>\n",
       "    <tr>\n",
       "      <th>88298</th>\n",
       "      <td>xwAvk</td>\n",
       "      <td>-4.257293</td>\n",
       "      <td>-3.078122</td>\n",
       "      <td>5.007702</td>\n",
       "      <td>134.766305</td>\n",
       "    </tr>\n",
       "    <tr>\n",
       "      <th>56001</th>\n",
       "      <td>3YIAU</td>\n",
       "      <td>6.224066</td>\n",
       "      <td>5.633134</td>\n",
       "      <td>1.994180</td>\n",
       "      <td>53.906522</td>\n",
       "    </tr>\n",
       "    <tr>\n",
       "      <th>13952</th>\n",
       "      <td>1W9gx</td>\n",
       "      <td>-1.084490</td>\n",
       "      <td>-3.120577</td>\n",
       "      <td>2.009045</td>\n",
       "      <td>53.906522</td>\n",
       "    </tr>\n",
       "    <tr>\n",
       "      <th>74657</th>\n",
       "      <td>ONS5s</td>\n",
       "      <td>2.070337</td>\n",
       "      <td>-11.217240</td>\n",
       "      <td>2.009203</td>\n",
       "      <td>53.906522</td>\n",
       "    </tr>\n",
       "    <tr>\n",
       "      <th>70837</th>\n",
       "      <td>ixYEh</td>\n",
       "      <td>5.964689</td>\n",
       "      <td>-1.300450</td>\n",
       "      <td>2.999052</td>\n",
       "      <td>80.859783</td>\n",
       "    </tr>\n",
       "    <tr>\n",
       "      <th>81465</th>\n",
       "      <td>eshkU</td>\n",
       "      <td>-4.998567</td>\n",
       "      <td>-1.529869</td>\n",
       "      <td>2.995545</td>\n",
       "      <td>80.859783</td>\n",
       "    </tr>\n",
       "    <tr>\n",
       "      <th>24866</th>\n",
       "      <td>Debjj</td>\n",
       "      <td>-0.846664</td>\n",
       "      <td>-7.649239</td>\n",
       "      <td>2.998893</td>\n",
       "      <td>80.859783</td>\n",
       "    </tr>\n",
       "    <tr>\n",
       "      <th>93998</th>\n",
       "      <td>6G8vq</td>\n",
       "      <td>-7.866844</td>\n",
       "      <td>-1.999925</td>\n",
       "      <td>2.001549</td>\n",
       "      <td>57.085625</td>\n",
       "    </tr>\n",
       "    <tr>\n",
       "      <th>15885</th>\n",
       "      <td>GKzLZ</td>\n",
       "      <td>-10.624202</td>\n",
       "      <td>-9.248917</td>\n",
       "      <td>5.014353</td>\n",
       "      <td>137.945408</td>\n",
       "    </tr>\n",
       "  </tbody>\n",
       "</table>\n",
       "</div>"
      ],
      "text/plain": [
       "          id         f0         f1        f2     product\n",
       "8719   RJPra  -9.056189  -6.904936  1.007228   30.132364\n",
       "88298  xwAvk  -4.257293  -3.078122  5.007702  134.766305\n",
       "56001  3YIAU   6.224066   5.633134  1.994180   53.906522\n",
       "13952  1W9gx  -1.084490  -3.120577  2.009045   53.906522\n",
       "74657  ONS5s   2.070337 -11.217240  2.009203   53.906522\n",
       "70837  ixYEh   5.964689  -1.300450  2.999052   80.859783\n",
       "81465  eshkU  -4.998567  -1.529869  2.995545   80.859783\n",
       "24866  Debjj  -0.846664  -7.649239  2.998893   80.859783\n",
       "93998  6G8vq  -7.866844  -1.999925  2.001549   57.085625\n",
       "15885  GKzLZ -10.624202  -9.248917  5.014353  137.945408"
      ]
     },
     "metadata": {},
     "output_type": "display_data"
    },
    {
     "name": "stdout",
     "output_type": "stream",
     "text": [
      "<class 'pandas.core.frame.DataFrame'>\n",
      "RangeIndex: 100000 entries, 0 to 99999\n",
      "Data columns (total 5 columns):\n",
      " #   Column   Non-Null Count   Dtype  \n",
      "---  ------   --------------   -----  \n",
      " 0   id       100000 non-null  object \n",
      " 1   f0       100000 non-null  float64\n",
      " 2   f1       100000 non-null  float64\n",
      " 3   f2       100000 non-null  float64\n",
      " 4   product  100000 non-null  float64\n",
      "dtypes: float64(4), object(1)\n",
      "memory usage: 3.8+ MB\n"
     ]
    }
   ],
   "source": [
    "display(geo_data_1.sample(10))\n",
    "geo_data_1.info()"
   ]
  },
  {
   "cell_type": "code",
   "execution_count": 4,
   "metadata": {},
   "outputs": [
    {
     "data": {
      "text/html": [
       "<div>\n",
       "<style scoped>\n",
       "    .dataframe tbody tr th:only-of-type {\n",
       "        vertical-align: middle;\n",
       "    }\n",
       "\n",
       "    .dataframe tbody tr th {\n",
       "        vertical-align: top;\n",
       "    }\n",
       "\n",
       "    .dataframe thead th {\n",
       "        text-align: right;\n",
       "    }\n",
       "</style>\n",
       "<table border=\"1\" class=\"dataframe\">\n",
       "  <thead>\n",
       "    <tr style=\"text-align: right;\">\n",
       "      <th></th>\n",
       "      <th>id</th>\n",
       "      <th>f0</th>\n",
       "      <th>f1</th>\n",
       "      <th>f2</th>\n",
       "      <th>product</th>\n",
       "    </tr>\n",
       "  </thead>\n",
       "  <tbody>\n",
       "    <tr>\n",
       "      <th>20189</th>\n",
       "      <td>svaCp</td>\n",
       "      <td>-1.385629</td>\n",
       "      <td>-3.958705</td>\n",
       "      <td>0.360813</td>\n",
       "      <td>134.149005</td>\n",
       "    </tr>\n",
       "    <tr>\n",
       "      <th>62175</th>\n",
       "      <td>h1fh1</td>\n",
       "      <td>-0.460552</td>\n",
       "      <td>3.217727</td>\n",
       "      <td>-0.770368</td>\n",
       "      <td>96.033625</td>\n",
       "    </tr>\n",
       "    <tr>\n",
       "      <th>75145</th>\n",
       "      <td>onicK</td>\n",
       "      <td>1.236008</td>\n",
       "      <td>1.616575</td>\n",
       "      <td>3.996478</td>\n",
       "      <td>126.768436</td>\n",
       "    </tr>\n",
       "    <tr>\n",
       "      <th>95351</th>\n",
       "      <td>AxEDV</td>\n",
       "      <td>-2.657500</td>\n",
       "      <td>2.509296</td>\n",
       "      <td>4.801042</td>\n",
       "      <td>101.851596</td>\n",
       "    </tr>\n",
       "    <tr>\n",
       "      <th>83253</th>\n",
       "      <td>VsIRA</td>\n",
       "      <td>0.212243</td>\n",
       "      <td>-0.972586</td>\n",
       "      <td>0.286203</td>\n",
       "      <td>69.926080</td>\n",
       "    </tr>\n",
       "    <tr>\n",
       "      <th>97754</th>\n",
       "      <td>7VXc0</td>\n",
       "      <td>2.152425</td>\n",
       "      <td>0.825978</td>\n",
       "      <td>0.789887</td>\n",
       "      <td>172.047469</td>\n",
       "    </tr>\n",
       "    <tr>\n",
       "      <th>24291</th>\n",
       "      <td>kWWFF</td>\n",
       "      <td>0.171908</td>\n",
       "      <td>1.684907</td>\n",
       "      <td>-0.399203</td>\n",
       "      <td>20.796149</td>\n",
       "    </tr>\n",
       "    <tr>\n",
       "      <th>52273</th>\n",
       "      <td>k7JiE</td>\n",
       "      <td>-1.381492</td>\n",
       "      <td>-2.009041</td>\n",
       "      <td>0.867252</td>\n",
       "      <td>42.063332</td>\n",
       "    </tr>\n",
       "    <tr>\n",
       "      <th>31345</th>\n",
       "      <td>PcFN4</td>\n",
       "      <td>1.765367</td>\n",
       "      <td>1.123277</td>\n",
       "      <td>4.822285</td>\n",
       "      <td>124.420405</td>\n",
       "    </tr>\n",
       "    <tr>\n",
       "      <th>21093</th>\n",
       "      <td>jZAd3</td>\n",
       "      <td>-2.648590</td>\n",
       "      <td>-0.050898</td>\n",
       "      <td>-2.378483</td>\n",
       "      <td>82.618374</td>\n",
       "    </tr>\n",
       "  </tbody>\n",
       "</table>\n",
       "</div>"
      ],
      "text/plain": [
       "          id        f0        f1        f2     product\n",
       "20189  svaCp -1.385629 -3.958705  0.360813  134.149005\n",
       "62175  h1fh1 -0.460552  3.217727 -0.770368   96.033625\n",
       "75145  onicK  1.236008  1.616575  3.996478  126.768436\n",
       "95351  AxEDV -2.657500  2.509296  4.801042  101.851596\n",
       "83253  VsIRA  0.212243 -0.972586  0.286203   69.926080\n",
       "97754  7VXc0  2.152425  0.825978  0.789887  172.047469\n",
       "24291  kWWFF  0.171908  1.684907 -0.399203   20.796149\n",
       "52273  k7JiE -1.381492 -2.009041  0.867252   42.063332\n",
       "31345  PcFN4  1.765367  1.123277  4.822285  124.420405\n",
       "21093  jZAd3 -2.648590 -0.050898 -2.378483   82.618374"
      ]
     },
     "metadata": {},
     "output_type": "display_data"
    },
    {
     "name": "stdout",
     "output_type": "stream",
     "text": [
      "<class 'pandas.core.frame.DataFrame'>\n",
      "RangeIndex: 100000 entries, 0 to 99999\n",
      "Data columns (total 5 columns):\n",
      " #   Column   Non-Null Count   Dtype  \n",
      "---  ------   --------------   -----  \n",
      " 0   id       100000 non-null  object \n",
      " 1   f0       100000 non-null  float64\n",
      " 2   f1       100000 non-null  float64\n",
      " 3   f2       100000 non-null  float64\n",
      " 4   product  100000 non-null  float64\n",
      "dtypes: float64(4), object(1)\n",
      "memory usage: 3.8+ MB\n"
     ]
    }
   ],
   "source": [
    "display(geo_data_2.sample(10))\n",
    "geo_data_2.info()"
   ]
  },
  {
   "attachments": {},
   "cell_type": "markdown",
   "metadata": {},
   "source": [
    "<h2>Data Preprocessing</h2>"
   ]
  },
  {
   "attachments": {},
   "cell_type": "markdown",
   "metadata": {},
   "source": [
    "This code checks for duplicate rows"
   ]
  },
  {
   "cell_type": "code",
   "execution_count": 7,
   "metadata": {},
   "outputs": [
    {
     "name": "stdout",
     "output_type": "stream",
     "text": [
      "0\n",
      "0\n",
      "0\n"
     ]
    }
   ],
   "source": [
    "print(geo_data_0.duplicated().sum())\n",
    "print(geo_data_1.duplicated().sum())\n",
    "print(geo_data_2.duplicated().sum())"
   ]
  },
  {
   "attachments": {},
   "cell_type": "markdown",
   "metadata": {},
   "source": [
    "This code checks for duplicate unique identifiers. It found some in each dataframe, so I proceeded to the next step."
   ]
  },
  {
   "cell_type": "code",
   "execution_count": 8,
   "metadata": {},
   "outputs": [
    {
     "name": "stdout",
     "output_type": "stream",
     "text": [
      "10\n",
      "4\n",
      "4\n"
     ]
    }
   ],
   "source": [
    "print(geo_data_0['id'].duplicated().sum())\n",
    "print(geo_data_1['id'].duplicated().sum())\n",
    "print(geo_data_2['id'].duplicated().sum())"
   ]
  },
  {
   "attachments": {},
   "cell_type": "markdown",
   "metadata": {},
   "source": [
    "This code checks for duplicate data across the dataframe that corresponds to the unique identifiers. It found none, so I left the unique identifiers alone."
   ]
  },
  {
   "cell_type": "code",
   "execution_count": 13,
   "metadata": {},
   "outputs": [
    {
     "name": "stdout",
     "output_type": "stream",
     "text": [
      "0\n",
      "0\n",
      "0\n",
      "0\n"
     ]
    }
   ],
   "source": [
    "print(geo_data_0.duplicated(subset=['id', 'f0']).sum())\n",
    "print(geo_data_0.duplicated(subset=['id', 'f1']).sum())\n",
    "print(geo_data_0.duplicated(subset=['id', 'f2']).sum())\n",
    "print(geo_data_0.duplicated(subset=['id', 'product']).sum())"
   ]
  },
  {
   "cell_type": "code",
   "execution_count": 14,
   "metadata": {},
   "outputs": [
    {
     "name": "stdout",
     "output_type": "stream",
     "text": [
      "0\n",
      "0\n",
      "0\n",
      "0\n"
     ]
    }
   ],
   "source": [
    "print(geo_data_1.duplicated(subset=['id', 'f0']).sum())\n",
    "print(geo_data_1.duplicated(subset=['id', 'f1']).sum())\n",
    "print(geo_data_1.duplicated(subset=['id', 'f2']).sum())\n",
    "print(geo_data_1.duplicated(subset=['id', 'product']).sum())"
   ]
  },
  {
   "cell_type": "code",
   "execution_count": 15,
   "metadata": {},
   "outputs": [
    {
     "name": "stdout",
     "output_type": "stream",
     "text": [
      "0\n",
      "0\n",
      "0\n",
      "0\n"
     ]
    }
   ],
   "source": [
    "print(geo_data_2.duplicated(subset=['id', 'f0']).sum())\n",
    "print(geo_data_2.duplicated(subset=['id', 'f1']).sum())\n",
    "print(geo_data_2.duplicated(subset=['id', 'f2']).sum())\n",
    "print(geo_data_2.duplicated(subset=['id', 'product']).sum())"
   ]
  },
  {
   "attachments": {},
   "cell_type": "markdown",
   "metadata": {},
   "source": [
    "<h2>Data Modeling</h2>\n"
   ]
  },
  {
   "attachments": {},
   "cell_type": "markdown",
   "metadata": {},
   "source": [
    "This function will split, scale and create a model that can be used for all three dataframes"
   ]
  },
  {
   "cell_type": "code",
   "execution_count": 65,
   "metadata": {},
   "outputs": [],
   "source": [
    "#function to split, scale, and model data\n",
    "def split_scale_model_data (data_train, data_valid, df, features_train, target_train, features_valid, target_valid):\n",
    "    data_train, data_valid = train_test_split(df, test_size=0.25, train_size = 0.75, random_state=54321, shuffle=True)\n",
    "\n",
    "    features_train = data_train.drop(['id', 'product'], axis=1)\n",
    "    target_train = data_train['product']\n",
    "    features_valid = data_valid.drop(['id', 'product'], axis=1)\n",
    "    target_valid = data_valid['product']\n",
    "\n",
    "    numeric = ['f0', 'f1', 'f2']\n",
    "    scaler = StandardScaler()\n",
    "    scaler.fit(features_train[numeric])\n",
    "    features_train[numeric] = scaler.transform(features_train[numeric])\n",
    "    features_valid[numeric] = scaler.transform(features_valid[numeric])\n",
    " \n",
    "    model = LinearRegression()\n",
    "    model.fit(features_train, target_train)\n",
    "    predictions_valid = model.predict(features_valid)\n",
    "\n",
    "    mean = predictions_valid.mean()\n",
    "\n",
    "    mean = str(round(mean, 2))\n",
    "\n",
    "    result = mean_squared_error(target_valid, predictions_valid)**0.5\n",
    "    print(\"RMSE of the linear regression model on the validation set:\", result)\n",
    "    print(\"The average volume of production of the linear regression model on the validation set is\", mean, \"barrels\")\n",
    "    return"
   ]
  },
  {
   "attachments": {},
   "cell_type": "markdown",
   "metadata": {},
   "source": [
    "This code creates the necessary variables and calls the above function for all three dataframes. It seems that the second set of data is not as productive as the first and third, and the third dataframe is the most productive for its validation set; however, more work can be done to confirm this."
   ]
  },
  {
   "cell_type": "code",
   "execution_count": 66,
   "metadata": {},
   "outputs": [
    {
     "name": "stdout",
     "output_type": "stream",
     "text": [
      "RMSE of the linear regression model on the validation set: 37.68341093860808\n",
      "The average volume of production of the linear regression model on the validation set is 92.16 barrels\n",
      "RMSE of the linear regression model on the validation set: 0.8922819708481464\n",
      "The average volume of production of the linear regression model on the validation set is 68.45 barrels\n",
      "RMSE of the linear regression model on the validation set: 40.15250541784855\n",
      "The average volume of production of the linear regression model on the validation set is 94.92 barrels\n"
     ]
    }
   ],
   "source": [
    "geo0_train = pd.DataFrame()\n",
    "geo1_train = pd.DataFrame()\n",
    "geo2_train = pd.DataFrame()\n",
    "geo0_valid = pd.DataFrame()\n",
    "geo1_valid = pd.DataFrame()\n",
    "geo2_valid = pd.DataFrame()\n",
    "features0_train = pd.DataFrame()\n",
    "features1_train = pd.DataFrame()\n",
    "features2_train = pd.DataFrame()\n",
    "target0_train = pd.DataFrame()\n",
    "target1_train = pd.DataFrame()\n",
    "target2_train = pd.DataFrame()\n",
    "features0_valid = pd.DataFrame()\n",
    "features1_valid = pd.DataFrame()\n",
    "features2_valid = pd.DataFrame()\n",
    "target0_valid = pd.DataFrame()\n",
    "target1_valid = pd.DataFrame()\n",
    "target2_valid = pd.DataFrame()\n",
    "\n",
    "split_scale_model_data(geo0_train, geo0_valid, geo_data_0, features0_train, target0_train, features0_valid, target0_valid)\n",
    "split_scale_model_data(geo1_train, geo1_valid, geo_data_1, features1_train, target1_train, features1_valid, target1_valid)\n",
    "split_scale_model_data(geo2_train, geo2_valid, geo_data_2, features2_train, target2_train, features2_valid, target2_valid)\n",
    "\n"
   ]
  },
  {
   "cell_type": "code",
   "execution_count": 39,
   "metadata": {},
   "outputs": [
    {
     "data": {
      "text/html": [
       "<div>\n",
       "<style scoped>\n",
       "    .dataframe tbody tr th:only-of-type {\n",
       "        vertical-align: middle;\n",
       "    }\n",
       "\n",
       "    .dataframe tbody tr th {\n",
       "        vertical-align: top;\n",
       "    }\n",
       "\n",
       "    .dataframe thead th {\n",
       "        text-align: right;\n",
       "    }\n",
       "</style>\n",
       "<table border=\"1\" class=\"dataframe\">\n",
       "  <thead>\n",
       "    <tr style=\"text-align: right;\">\n",
       "      <th></th>\n",
       "    </tr>\n",
       "  </thead>\n",
       "  <tbody>\n",
       "  </tbody>\n",
       "</table>\n",
       "</div>"
      ],
      "text/plain": [
       "Empty DataFrame\n",
       "Columns: []\n",
       "Index: []"
      ]
     },
     "metadata": {},
     "output_type": "display_data"
    }
   ],
   "source": []
  }
 ],
 "metadata": {
  "kernelspec": {
   "display_name": "base",
   "language": "python",
   "name": "python3"
  },
  "language_info": {
   "codemirror_mode": {
    "name": "ipython",
    "version": 3
   },
   "file_extension": ".py",
   "mimetype": "text/x-python",
   "name": "python",
   "nbconvert_exporter": "python",
   "pygments_lexer": "ipython3",
   "version": "3.9.13"
  },
  "orig_nbformat": 4
 },
 "nbformat": 4,
 "nbformat_minor": 2
}
